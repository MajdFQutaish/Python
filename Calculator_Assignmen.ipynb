{
  "nbformat": 4,
  "nbformat_minor": 0,
  "metadata": {
    "colab": {
      "provenance": [],
      "authorship_tag": "ABX9TyOrirHMeVUEuzpBrvUcswR7",
      "include_colab_link": true
    },
    "kernelspec": {
      "name": "python3",
      "display_name": "Python 3"
    },
    "language_info": {
      "name": "python"
    }
  },
  "cells": [
    {
      "cell_type": "markdown",
      "metadata": {
        "id": "view-in-github",
        "colab_type": "text"
      },
      "source": [
        "<a href=\"https://colab.research.google.com/github/MajdFQutaish/Python/blob/main/Calculator_Assignmen.ipynb\" target=\"_parent\"><img src=\"https://colab.research.google.com/assets/colab-badge.svg\" alt=\"Open In Colab\"/></a>"
      ]
    },
    {
      "cell_type": "code",
      "execution_count": null,
      "metadata": {
        "id": "FEVIN4_py3RS"
      },
      "outputs": [],
      "source": [
        "#Calculator Assignment : \n",
        "\n",
        "def Calculator_function (num1 , num2 , operater):\n",
        "      #Python Arithmetic Operators:\n",
        "      if operater == '+':\n",
        "          return print(\"Result of Addition = \" ,(num1 + num2))\n",
        "      elif operater == '-':\n",
        "         return print(\"Result of Subtraction = \" ,(num1 - num2))\n",
        "      elif operater == '*':\n",
        "         return print(\"Result of Multiplication = \" ,(num1 * num2))\n",
        "      elif operater == '/':\n",
        "         return print(\"Result of Division = \" ,(num1 / num2))\n",
        "      elif operater == '//':\n",
        "         return print(\"Result of Floor division = \" ,(num1 // num2))\n",
        "      elif operater == '%':\n",
        "         return print(\"Result of Modulus = \" ,(num1 % num2))\n",
        "      elif operater == '**':\n",
        "         return print(\"Result of Exponentiation = \" ,(num1 ** num2))\n",
        "      \n",
        "      #Python Comparison Operators: (True or False )\n",
        "      elif operater == '==':\n",
        "          return print(\"Result of Equal Operator = \" ,(num1 == num2))\n",
        "      elif operater == '!=':\n",
        "          return print(\"Result of Not equal Operator = \" ,(num1 != num2))\n",
        "      elif operater == '>':\n",
        "          return print(\"Result of Greater than Operator = \" ,(num1 > num2))\n",
        "      elif operater == '<':\n",
        "          return print(\"Result of Less than Operator = \" ,(num1 < num2))\n",
        "      elif operater == '>=':\n",
        "          return print(\"Result of Greater than or equal to Operator  = \" ,(num1 >= num2))\n",
        "      elif operater == '<=':\n",
        "          return print(\"Result of Less than or equal to Operator = \" ,(num1 <= num2))\n",
        "\n",
        "      #Python Identity Operators:Identity operators are used to compare the objects, not if they are equal,\n",
        "      # but if they are actually the same object, with the same memory location:(True or False)\n",
        "     \n",
        "      elif operater == 'is':\n",
        "          return print(\"Result of 'is'  Operator  = \" ,(num1 is num2))\n",
        "      elif operater == 'is not':\n",
        "          return print(\"Result of 'is not' Operator = \" ,(num1 is not num2))\n",
        "\n",
        "      #Using Max , Min and abs builtin functions:\n",
        "\n",
        "      elif operater == 'max':\n",
        "          return print(\" Maximum number is = \" ,(max(num1,num2)))\n",
        "      elif operater == 'min':\n",
        "          return print(\" Minimum number is = \" ,(min(num1,num2)))\n",
        "      elif operater == 'abs':\n",
        "          return print(\" abs of num1 & num2 is  = \" ,abs(num1) ,\" , \",abs(num2))\n",
        "\n",
        "      #Odd-even check :\n",
        "      elif operater == 'odd':\n",
        "          return print(\"Is num1 odd? : \" ,is_odd(num1) ,\" , Is num2 odd? : \",is_odd(num2))\n",
        "\n",
        "          \n",
        "          \n",
        "\n",
        "      else: \n",
        "         print(\"Error\")\n",
        "      \n",
        "def is_odd(n):\n",
        "     return (n % 2) == 1\n",
        "\n",
        "#operater:+  , - ,  * ,  / ,  // ,  %  , ** ,  == , != , > , < , < , >= , <= , is , is not , max , min , abs , odd \n",
        "Calculator_function(10,1,'+')\n",
        "     "
      ]
    }
  ]
}